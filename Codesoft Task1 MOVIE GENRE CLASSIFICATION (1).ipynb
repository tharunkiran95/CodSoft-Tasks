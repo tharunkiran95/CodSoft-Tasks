{
 "cells": [
  {
   "cell_type": "code",
   "execution_count": 1,
   "id": "ea540c49",
   "metadata": {},
   "outputs": [],
   "source": [
    "import pandas as pd \n",
    "import numpy as np\n",
    "import seaborn as sns\n",
    "import matplotlib.pyplot as plt\n",
    "from sklearn.feature_extraction.text import TfidfVectorizer\n",
    "from sklearn.preprocessing import LabelEncoder\n",
    "from sklearn.svm import LinearSVC\n",
    "from sklearn.model_selection import train_test_split\n",
    "from sklearn.metrics import accuracy_score, classification_report"
   ]
  },
  {
   "cell_type": "markdown",
   "id": "e518a768",
   "metadata": {},
   "source": [
    "## Importing the data "
   ]
  },
  {
   "cell_type": "code",
   "execution_count": 2,
   "id": "631126e7",
   "metadata": {},
   "outputs": [
    {
     "name": "stderr",
     "output_type": "stream",
     "text": [
      "C:\\Users\\Khush\\AppData\\Local\\Temp\\ipykernel_21108\\743270429.py:1: ParserWarning: Falling back to the 'python' engine because the 'c' engine does not support regex separators (separators > 1 char and different from '\\s+' are interpreted as regex); you can avoid this warning by specifying engine='python'.\n",
      "  train_data = pd.read_csv(\"C:/Users/Khush/Downloads/archive (2)/Genre Classification Dataset/train_data.txt\",sep=':::', names=['ID', 'TITLE', 'GENRE', 'DESCRIPTION'])\n"
     ]
    },
    {
     "data": {
      "text/html": [
       "<div>\n",
       "<style scoped>\n",
       "    .dataframe tbody tr th:only-of-type {\n",
       "        vertical-align: middle;\n",
       "    }\n",
       "\n",
       "    .dataframe tbody tr th {\n",
       "        vertical-align: top;\n",
       "    }\n",
       "\n",
       "    .dataframe thead th {\n",
       "        text-align: right;\n",
       "    }\n",
       "</style>\n",
       "<table border=\"1\" class=\"dataframe\">\n",
       "  <thead>\n",
       "    <tr style=\"text-align: right;\">\n",
       "      <th></th>\n",
       "      <th>ID</th>\n",
       "      <th>TITLE</th>\n",
       "      <th>GENRE</th>\n",
       "      <th>DESCRIPTION</th>\n",
       "    </tr>\n",
       "  </thead>\n",
       "  <tbody>\n",
       "    <tr>\n",
       "      <th>0</th>\n",
       "      <td>1</td>\n",
       "      <td>Oscar et la dame rose (2009)</td>\n",
       "      <td>drama</td>\n",
       "      <td>Listening in to a conversation between his do...</td>\n",
       "    </tr>\n",
       "    <tr>\n",
       "      <th>1</th>\n",
       "      <td>2</td>\n",
       "      <td>Cupid (1997)</td>\n",
       "      <td>thriller</td>\n",
       "      <td>A brother and sister with a past incestuous r...</td>\n",
       "    </tr>\n",
       "    <tr>\n",
       "      <th>2</th>\n",
       "      <td>3</td>\n",
       "      <td>Young, Wild and Wonderful (1980)</td>\n",
       "      <td>adult</td>\n",
       "      <td>As the bus empties the students for their fie...</td>\n",
       "    </tr>\n",
       "    <tr>\n",
       "      <th>3</th>\n",
       "      <td>4</td>\n",
       "      <td>The Secret Sin (1915)</td>\n",
       "      <td>drama</td>\n",
       "      <td>To help their unemployed father make ends mee...</td>\n",
       "    </tr>\n",
       "    <tr>\n",
       "      <th>4</th>\n",
       "      <td>5</td>\n",
       "      <td>The Unrecovered (2007)</td>\n",
       "      <td>drama</td>\n",
       "      <td>The film's title refers not only to the un-re...</td>\n",
       "    </tr>\n",
       "  </tbody>\n",
       "</table>\n",
       "</div>"
      ],
      "text/plain": [
       "   ID                               TITLE       GENRE  \\\n",
       "0   1       Oscar et la dame rose (2009)       drama    \n",
       "1   2                       Cupid (1997)    thriller    \n",
       "2   3   Young, Wild and Wonderful (1980)       adult    \n",
       "3   4              The Secret Sin (1915)       drama    \n",
       "4   5             The Unrecovered (2007)       drama    \n",
       "\n",
       "                                         DESCRIPTION  \n",
       "0   Listening in to a conversation between his do...  \n",
       "1   A brother and sister with a past incestuous r...  \n",
       "2   As the bus empties the students for their fie...  \n",
       "3   To help their unemployed father make ends mee...  \n",
       "4   The film's title refers not only to the un-re...  "
      ]
     },
     "metadata": {},
     "output_type": "display_data"
    },
    {
     "name": "stdout",
     "output_type": "stream",
     "text": [
      "(54214, 4)\n"
     ]
    },
    {
     "name": "stderr",
     "output_type": "stream",
     "text": [
      "C:\\Users\\Khush\\AppData\\Local\\Temp\\ipykernel_21108\\743270429.py:6: ParserWarning: Falling back to the 'python' engine because the 'c' engine does not support regex separators (separators > 1 char and different from '\\s+' are interpreted as regex); you can avoid this warning by specifying engine='python'.\n",
      "  test_data = pd.read_csv(\"C:/Users/Khush/Downloads/archive (2)/Genre Classification Dataset/test_data.txt\",sep=':::', names=['ID', 'TITLE', 'GENRE', 'DESCRIPTION'])\n"
     ]
    },
    {
     "data": {
      "text/html": [
       "<div>\n",
       "<style scoped>\n",
       "    .dataframe tbody tr th:only-of-type {\n",
       "        vertical-align: middle;\n",
       "    }\n",
       "\n",
       "    .dataframe tbody tr th {\n",
       "        vertical-align: top;\n",
       "    }\n",
       "\n",
       "    .dataframe thead th {\n",
       "        text-align: right;\n",
       "    }\n",
       "</style>\n",
       "<table border=\"1\" class=\"dataframe\">\n",
       "  <thead>\n",
       "    <tr style=\"text-align: right;\">\n",
       "      <th></th>\n",
       "      <th>ID</th>\n",
       "      <th>TITLE</th>\n",
       "      <th>GENRE</th>\n",
       "      <th>DESCRIPTION</th>\n",
       "    </tr>\n",
       "  </thead>\n",
       "  <tbody>\n",
       "    <tr>\n",
       "      <th>0</th>\n",
       "      <td>1</td>\n",
       "      <td>Edgar's Lunch (1998)</td>\n",
       "      <td>L.R. Brane loves his life - his car, his apar...</td>\n",
       "      <td>NaN</td>\n",
       "    </tr>\n",
       "    <tr>\n",
       "      <th>1</th>\n",
       "      <td>2</td>\n",
       "      <td>La guerra de papá (1977)</td>\n",
       "      <td>Spain, March 1964: Quico is a very naughty ch...</td>\n",
       "      <td>NaN</td>\n",
       "    </tr>\n",
       "    <tr>\n",
       "      <th>2</th>\n",
       "      <td>3</td>\n",
       "      <td>Off the Beaten Track (2010)</td>\n",
       "      <td>One year in the life of Albin and his family ...</td>\n",
       "      <td>NaN</td>\n",
       "    </tr>\n",
       "    <tr>\n",
       "      <th>3</th>\n",
       "      <td>4</td>\n",
       "      <td>Meu Amigo Hindu (2015)</td>\n",
       "      <td>His father has died, he hasn't spoken with hi...</td>\n",
       "      <td>NaN</td>\n",
       "    </tr>\n",
       "    <tr>\n",
       "      <th>4</th>\n",
       "      <td>5</td>\n",
       "      <td>Er nu zhai (1955)</td>\n",
       "      <td>Before he was known internationally as a mart...</td>\n",
       "      <td>NaN</td>\n",
       "    </tr>\n",
       "  </tbody>\n",
       "</table>\n",
       "</div>"
      ],
      "text/plain": [
       "   ID                          TITLE  \\\n",
       "0   1          Edgar's Lunch (1998)    \n",
       "1   2      La guerra de papá (1977)    \n",
       "2   3   Off the Beaten Track (2010)    \n",
       "3   4        Meu Amigo Hindu (2015)    \n",
       "4   5             Er nu zhai (1955)    \n",
       "\n",
       "                                               GENRE  DESCRIPTION  \n",
       "0   L.R. Brane loves his life - his car, his apar...          NaN  \n",
       "1   Spain, March 1964: Quico is a very naughty ch...          NaN  \n",
       "2   One year in the life of Albin and his family ...          NaN  \n",
       "3   His father has died, he hasn't spoken with hi...          NaN  \n",
       "4   Before he was known internationally as a mart...          NaN  "
      ]
     },
     "metadata": {},
     "output_type": "display_data"
    },
    {
     "name": "stdout",
     "output_type": "stream",
     "text": [
      "None\n",
      "(54200, 4)\n"
     ]
    },
    {
     "name": "stderr",
     "output_type": "stream",
     "text": [
      "C:\\Users\\Khush\\AppData\\Local\\Temp\\ipykernel_21108\\743270429.py:10: ParserWarning: Falling back to the 'python' engine because the 'c' engine does not support regex separators (separators > 1 char and different from '\\s+' are interpreted as regex); you can avoid this warning by specifying engine='python'.\n",
      "  test_solution_data = pd.read_csv(\"C:/Users/Khush/Downloads/archive (2)/Genre Classification Dataset/test_data_solution.txt\",sep=':::', names=['ID', 'TITLE', 'GENRE', 'DESCRIPTION'])\n"
     ]
    },
    {
     "data": {
      "text/html": [
       "<div>\n",
       "<style scoped>\n",
       "    .dataframe tbody tr th:only-of-type {\n",
       "        vertical-align: middle;\n",
       "    }\n",
       "\n",
       "    .dataframe tbody tr th {\n",
       "        vertical-align: top;\n",
       "    }\n",
       "\n",
       "    .dataframe thead th {\n",
       "        text-align: right;\n",
       "    }\n",
       "</style>\n",
       "<table border=\"1\" class=\"dataframe\">\n",
       "  <thead>\n",
       "    <tr style=\"text-align: right;\">\n",
       "      <th></th>\n",
       "      <th>ID</th>\n",
       "      <th>TITLE</th>\n",
       "      <th>GENRE</th>\n",
       "      <th>DESCRIPTION</th>\n",
       "    </tr>\n",
       "  </thead>\n",
       "  <tbody>\n",
       "    <tr>\n",
       "      <th>0</th>\n",
       "      <td>1</td>\n",
       "      <td>Edgar's Lunch (1998)</td>\n",
       "      <td>thriller</td>\n",
       "      <td>L.R. Brane loves his life - his car, his apar...</td>\n",
       "    </tr>\n",
       "    <tr>\n",
       "      <th>1</th>\n",
       "      <td>2</td>\n",
       "      <td>La guerra de papá (1977)</td>\n",
       "      <td>comedy</td>\n",
       "      <td>Spain, March 1964: Quico is a very naughty ch...</td>\n",
       "    </tr>\n",
       "    <tr>\n",
       "      <th>2</th>\n",
       "      <td>3</td>\n",
       "      <td>Off the Beaten Track (2010)</td>\n",
       "      <td>documentary</td>\n",
       "      <td>One year in the life of Albin and his family ...</td>\n",
       "    </tr>\n",
       "    <tr>\n",
       "      <th>3</th>\n",
       "      <td>4</td>\n",
       "      <td>Meu Amigo Hindu (2015)</td>\n",
       "      <td>drama</td>\n",
       "      <td>His father has died, he hasn't spoken with hi...</td>\n",
       "    </tr>\n",
       "    <tr>\n",
       "      <th>4</th>\n",
       "      <td>5</td>\n",
       "      <td>Er nu zhai (1955)</td>\n",
       "      <td>drama</td>\n",
       "      <td>Before he was known internationally as a mart...</td>\n",
       "    </tr>\n",
       "  </tbody>\n",
       "</table>\n",
       "</div>"
      ],
      "text/plain": [
       "   ID                          TITLE          GENRE  \\\n",
       "0   1          Edgar's Lunch (1998)       thriller    \n",
       "1   2      La guerra de papá (1977)         comedy    \n",
       "2   3   Off the Beaten Track (2010)    documentary    \n",
       "3   4        Meu Amigo Hindu (2015)          drama    \n",
       "4   5             Er nu zhai (1955)          drama    \n",
       "\n",
       "                                         DESCRIPTION  \n",
       "0   L.R. Brane loves his life - his car, his apar...  \n",
       "1   Spain, March 1964: Quico is a very naughty ch...  \n",
       "2   One year in the life of Albin and his family ...  \n",
       "3   His father has died, he hasn't spoken with hi...  \n",
       "4   Before he was known internationally as a mart...  "
      ]
     },
     "metadata": {},
     "output_type": "display_data"
    },
    {
     "name": "stdout",
     "output_type": "stream",
     "text": [
      "None\n",
      "(54200, 4)\n"
     ]
    }
   ],
   "source": [
    "train_data = pd.read_csv(\"C:/Users/Khush/Downloads/archive (2)/Genre Classification Dataset/train_data.txt\",sep=':::', names=['ID', 'TITLE', 'GENRE', 'DESCRIPTION'])\n",
    "display(train_data.head())\n",
    "print(train_data.shape)\n",
    "\n",
    "test_data = pd.read_csv(\"C:/Users/Khush/Downloads/archive (2)/Genre Classification Dataset/test_data.txt\",sep=':::', names=['ID', 'TITLE', 'GENRE', 'DESCRIPTION'])\n",
    "print(display(test_data.head()))\n",
    "print(test_data.shape)\n",
    "\n",
    "test_solution_data = pd.read_csv(\"C:/Users/Khush/Downloads/archive (2)/Genre Classification Dataset/test_data_solution.txt\",sep=':::', names=['ID', 'TITLE', 'GENRE', 'DESCRIPTION'])\n",
    "print(display(test_solution_data.head()))\n",
    "print(test_solution_data.shape)"
   ]
  },
  {
   "cell_type": "markdown",
   "id": "6141a120",
   "metadata": {},
   "source": [
    "## Performing some data visualization method"
   ]
  },
  {
   "cell_type": "code",
   "execution_count": 3,
   "id": "f6a9f6b9",
   "metadata": {},
   "outputs": [
    {
     "data": {
      "image/png": "[encoded data removed]",
      "text/plain": [
       "<Figure size 1440x576 with 1 Axes>"
      ]
     },
     "metadata": {
      "needs_background": "light"
     },
     "output_type": "display_data"
    }
   ],
   "source": [
    "plt.figure(figsize=(20,8))\n",
    "sns.countplot(y=train_data['GENRE'], order = train_data['GENRE'].value_counts().index)\n",
    "plt.title('Number of Movies per Genre')\n",
    "plt.xlabel('Number of Movies')\n",
    "plt.ylabel('Genre')\n",
    "plt.show()"
   ]
  },
  {
   "cell_type": "markdown",
   "id": "f9bc056f",
   "metadata": {},
   "source": [
    "## Bar Representation of Genre vs Description length"
   ]
  },
  {
   "cell_type": "code",
   "execution_count": 4,
   "id": "5a5ff3c4",
   "metadata": {},
   "outputs": [
    {
     "data": {
      "image/png": "[encoded data removed]",
      "text/plain": [
       "<Figure size 1080x720 with 1 Axes>"
      ]
     },
     "metadata": {
      "needs_background": "light"
     },
     "output_type": "display_data"
    }
   ],
   "source": [
    "train_data['DESCRIPTION_length'] = train_data['DESCRIPTION'].apply(len)\n",
    "plt.figure(figsize=(15, 10))\n",
    "sns.barplot(x='GENRE', y='DESCRIPTION_length', data=train_data)\n",
    "plt.title('Description Length by Genre')\n",
    "plt.xticks(rotation=45)\n",
    "plt.xlabel('Genre')\n",
    "plt.ylabel('Description Length')\n",
    "plt.show()"
   ]
  },
  {
   "cell_type": "markdown",
   "id": "5832ca19",
   "metadata": {},
   "source": [
    "## Now to get to known about top genre which mostly people watched"
   ]
  },
  {
   "cell_type": "code",
   "execution_count": 5,
   "id": "229b5ba6",
   "metadata": {},
   "outputs": [
    {
     "data": {
      "image/png": "[encoded data removed]",
      "text/plain": [
       "<Figure size 1440x720 with 1 Axes>"
      ]
     },
     "metadata": {
      "needs_background": "light"
     },
     "output_type": "display_data"
    }
   ],
   "source": [
    "top_genres = train_data['GENRE'].value_counts().head(10)\n",
    "\n",
    "plt.figure(figsize=(20, 10))\n",
    "top_genres.plot(kind='barh', color='cyan')\n",
    "plt.title('Top 10 Most Frequent Genres')\n",
    "plt.xlabel('Number of Movies')\n",
    "plt.ylabel('Genre')\n",
    "plt.gca().invert_yaxis()  # Invert y-axis to have the genre with the most movies at the top\n",
    "plt.show()"
   ]
  },
  {
   "cell_type": "markdown",
   "id": "a5f0b8ae",
   "metadata": {},
   "source": [
    "## now training and testing of the data "
   ]
  },
  {
   "cell_type": "code",
   "execution_count": 6,
   "id": "1a01bda7",
   "metadata": {},
   "outputs": [],
   "source": [
    "# Handle any potential missing values\n",
    "train_data['DESCRIPTION'].fillna(\"\", inplace=True)\n",
    "test_data['DESCRIPTION'].fillna(\"\", inplace=True)\n",
    "\n",
    "t_v = TfidfVectorizer(stop_words='english', max_features=100000)\n",
    "X_train = t_v.fit_transform(train_data['DESCRIPTION'])\n",
    "X_test = t_v.transform(test_data['DESCRIPTION'])\n",
    "\n",
    "label_encoder = LabelEncoder()\n",
    "y_train = label_encoder.fit_transform(train_data['GENRE'])\n",
    "y_test = label_encoder.transform(test_solution_data['GENRE'])"
   ]
  },
  {
   "cell_type": "code",
   "execution_count": 7,
   "id": "e4e6fe3a",
   "metadata": {},
   "outputs": [
    {
     "name": "stdout",
     "output_type": "stream",
     "text": [
      "Validation Accuracy: 0.5836945494789265\n",
      "Validation Classification Report:\n",
      "               precision    recall  f1-score   support\n",
      "\n",
      "           0       0.44      0.32      0.37       263\n",
      "           1       0.74      0.44      0.55       112\n",
      "           2       0.45      0.21      0.28       139\n",
      "           3       0.47      0.15      0.23       104\n",
      "           4       0.00      0.00      0.00        61\n",
      "           5       0.53      0.59      0.56      1443\n",
      "           6       0.39      0.07      0.11       107\n",
      "           7       0.69      0.81      0.75      2659\n",
      "           8       0.56      0.72      0.63      2697\n",
      "           9       0.36      0.17      0.23       150\n",
      "          10       0.13      0.03      0.04        74\n",
      "          11       0.82      0.68      0.74        40\n",
      "          12       0.00      0.00      0.00        45\n",
      "          13       0.65      0.66      0.66       431\n",
      "          14       0.61      0.53      0.57       144\n",
      "          15       0.25      0.04      0.07        50\n",
      "          16       0.43      0.05      0.10        56\n",
      "          17       0.20      0.06      0.09        34\n",
      "          18       0.49      0.25      0.33       192\n",
      "          19       0.36      0.06      0.10       151\n",
      "          20       0.50      0.28      0.36       143\n",
      "          21       0.44      0.36      0.40      1045\n",
      "          22       0.60      0.41      0.49        93\n",
      "          23       0.62      0.25      0.35        81\n",
      "          24       0.30      0.16      0.21       309\n",
      "          25       0.50      0.05      0.09        20\n",
      "          26       0.85      0.83      0.84       200\n",
      "\n",
      "    accuracy                           0.58     10843\n",
      "   macro avg       0.46      0.30      0.34     10843\n",
      "weighted avg       0.56      0.58      0.56     10843\n",
      "\n"
     ]
    }
   ],
   "source": [
    "X_train_sub, X_val, y_train_sub, y_val = train_test_split(X_train, y_train, test_size=0.2, random_state=42)\n",
    "\n",
    "clf = LinearSVC()\n",
    "clf.fit(X_train_sub, y_train_sub)\n",
    "\n",
    "y_val_pred = clf.predict(X_val)\n",
    "print(\"Validation Accuracy:\", accuracy_score(y_val, y_val_pred))\n",
    "print(\"Validation Classification Report:\\n\", classification_report(y_val, y_val_pred))"
   ]
  },
  {
   "cell_type": "code",
   "execution_count": 8,
   "id": "c8f84354",
   "metadata": {},
   "outputs": [
    {
     "name": "stdout",
     "output_type": "stream",
     "text": [
      "Test Accuracy: 0.09357933579335793\n",
      "Test Classification Report:\n",
      "               precision    recall  f1-score   support\n",
      "\n",
      "           0       0.00      0.00      0.00      1314\n",
      "           1       0.00      0.00      0.00       590\n",
      "           2       0.00      0.00      0.00       775\n",
      "           3       0.00      0.00      0.00       498\n",
      "           4       0.00      0.00      0.00       264\n",
      "           5       0.00      0.00      0.00      7446\n",
      "           6       0.00      0.00      0.00       505\n",
      "           7       0.00      0.00      0.00     13096\n",
      "           8       0.00      0.00      0.00     13612\n",
      "           9       0.00      0.00      0.00       783\n",
      "          10       0.00      0.00      0.00       322\n",
      "          11       0.00      0.00      0.00       193\n",
      "          12       0.00      0.00      0.00       243\n",
      "          13       0.00      0.00      0.00      2204\n",
      "          14       0.00      0.00      0.00       731\n",
      "          15       0.00      0.00      0.00       276\n",
      "          16       0.00      0.00      0.00       318\n",
      "          17       0.00      0.00      0.00       181\n",
      "          18       0.00      0.00      0.00       883\n",
      "          19       0.00      0.00      0.00       672\n",
      "          20       0.00      0.00      0.00       646\n",
      "          21       0.09      1.00      0.17      5072\n",
      "          22       0.00      0.00      0.00       431\n",
      "          23       0.00      0.00      0.00       391\n",
      "          24       0.00      0.00      0.00      1590\n",
      "          25       0.00      0.00      0.00       132\n",
      "          26       0.00      0.00      0.00      1032\n",
      "\n",
      "    accuracy                           0.09     54200\n",
      "   macro avg       0.00      0.04      0.01     54200\n",
      "weighted avg       0.01      0.09      0.02     54200\n",
      "\n"
     ]
    },
    {
     "name": "stderr",
     "output_type": "stream",
     "text": [
      "C:\\ProgramData\\Anaconda3\\lib\\site-packages\\sklearn\\metrics\\_classification.py:1318: UndefinedMetricWarning: Precision and F-score are ill-defined and being set to 0.0 in labels with no predicted samples. Use `zero_division` parameter to control this behavior.\n",
      "  _warn_prf(average, modifier, msg_start, len(result))\n",
      "C:\\ProgramData\\Anaconda3\\lib\\site-packages\\sklearn\\metrics\\_classification.py:1318: UndefinedMetricWarning: Precision and F-score are ill-defined and being set to 0.0 in labels with no predicted samples. Use `zero_division` parameter to control this behavior.\n",
      "  _warn_prf(average, modifier, msg_start, len(result))\n",
      "C:\\ProgramData\\Anaconda3\\lib\\site-packages\\sklearn\\metrics\\_classification.py:1318: UndefinedMetricWarning: Precision and F-score are ill-defined and being set to 0.0 in labels with no predicted samples. Use `zero_division` parameter to control this behavior.\n",
      "  _warn_prf(average, modifier, msg_start, len(result))\n"
     ]
    }
   ],
   "source": [
    "y_pred = clf.predict(X_test)\n",
    "print(\"Test Accuracy:\", accuracy_score(y_test, y_pred))\n",
    "print(\"Test Classification Report:\\n\", classification_report(y_test, y_pred))"
   ]
  },
  {
   "cell_type": "code",
   "execution_count": 9,
   "id": "0a8b03b4",
   "metadata": {},
   "outputs": [
    {
     "data": {
      "text/plain": [
       "MultinomialNB()"
      ]
     },
     "execution_count": 9,
     "metadata": {},
     "output_type": "execute_result"
    }
   ],
   "source": [
    "from sklearn.naive_bayes import MultinomialNB\n",
    "Mnb_classifier = MultinomialNB()\n",
    "Mnb_classifier.fit(X_train, y_train)"
   ]
  },
  {
   "cell_type": "code",
   "execution_count": 10,
   "id": "a9d8e778",
   "metadata": {},
   "outputs": [
    {
     "data": {
      "text/plain": [
       "array([8, 8, 8, ..., 8, 8, 8])"
      ]
     },
     "execution_count": 10,
     "metadata": {},
     "output_type": "execute_result"
    }
   ],
   "source": [
    "Mnb_classifier.predict(X_test)"
   ]
  },
  {
   "cell_type": "code",
   "execution_count": 11,
   "id": "c2e82317",
   "metadata": {},
   "outputs": [
    {
     "data": {
      "text/plain": [
       "LogisticRegression(max_iter=500)"
      ]
     },
     "execution_count": 11,
     "metadata": {},
     "output_type": "execute_result"
    }
   ],
   "source": [
    "from sklearn.linear_model import LogisticRegression\n",
    "lr_classifier = LogisticRegression(max_iter=500)\n",
    "lr_classifier.fit(X_train, y_train)"
   ]
  },
  {
   "cell_type": "code",
   "execution_count": 12,
   "id": "833e8e86",
   "metadata": {},
   "outputs": [
    {
     "data": {
      "text/plain": [
       "array([8, 8, 8, ..., 8, 8, 8])"
      ]
     },
     "execution_count": 12,
     "metadata": {},
     "output_type": "execute_result"
    }
   ],
   "source": [
    "lr_classifier.predict(X_test)"
   ]
  },
  {
   "cell_type": "markdown",
   "id": "01b97508",
   "metadata": {},
   "source": [
    "## Now designing a function show that we can predict the genre of the movie"
   ]
  },
  {
   "cell_type": "code",
   "execution_count": 13,
   "id": "9864508c",
   "metadata": {},
   "outputs": [
    {
     "name": "stdout",
     "output_type": "stream",
     "text": [
      " action \n",
      " drama \n"
     ]
    }
   ],
   "source": [
    "def predict_movie(description):\n",
    "    t_v1 = t_v.transform([description])\n",
    "    pred_label = clf.predict(t_v1)\n",
    "    return label_encoder.inverse_transform(pred_label)[0]\n",
    "\n",
    "sample_descr_for_movie = \"A movie where police cashes the criminal and shoot him\"\n",
    "print(predict_movie(sample_descr_for_movie))\n",
    "\n",
    "sample_descr_for_movie1 = \"A movie where person cashes a girl too get marry with him but girl refuses him.\"\n",
    "print(predict_movie(sample_descr_for_movie1))"
   ]
  },
  {
   "cell_type": "code",
   "execution_count": null,
   "id": "a079199d",
   "metadata": {},
   "outputs": [],
   "source": []
  }
 ],
 "metadata": {
  "kernelspec": {
   "display_name": "Python 3 (ipykernel)",
   "language": "python",
   "name": "python3"
  },
  "language_info": {
   "codemirror_mode": {
    "name": "ipython",
    "version": 3
   },
   "file_extension": ".py",
   "mimetype": "text/x-python",
   "name": "python",
   "nbconvert_exporter": "python",
   "pygments_lexer": "ipython3",
   "version": "3.9.12"
  }
 },
 "nbformat": 4,
 "nbformat_minor": 5
}
